{
 "cells": [
  {
   "cell_type": "markdown",
   "id": "700e43f0",
   "metadata": {},
   "source": [
    "# Ingeniería de Datos en Python (II Parte)"
   ]
  },
  {
   "cell_type": "markdown",
   "id": "d74c57fd",
   "metadata": {},
   "source": [
    "## Conexión a diversas BD y sus respectivas consultas."
   ]
  },
  {
   "cell_type": "markdown",
   "id": "129f7218",
   "metadata": {},
   "source": [
    "Objetivos Especificos: \n",
    "- Conectarse a las diversas Bases de Datos.\n",
    "- "
   ]
  },
  {
   "cell_type": "markdown",
   "id": "abe72499",
   "metadata": {},
   "source": [
    "A continuación, se presenta la conexión a PostgreSQL."
   ]
  },
  {
   "cell_type": "code",
   "execution_count": 8,
   "id": "4036df34",
   "metadata": {},
   "outputs": [],
   "source": [
    "import psycopg2 as ps\n",
    "import pandas as pd\n",
    "\n",
    "pg_credenciales = {\n",
    "    'dbname':'peliculas',\n",
    "    'user':'postgres',\n",
    "    'password':'inexcelsisdeo',\n",
    "    'host':'localhost',\n",
    "    'port':5432\n",
    "}\n",
    "\n",
    "pg_conexion = ps.connect( **pg_credenciales )\n",
    "pg_cursor = pg_conexion.cursor()"
   ]
  },
  {
   "cell_type": "code",
   "execution_count": 21,
   "id": "c5e071e3",
   "metadata": {},
   "outputs": [
    {
     "name": "stdout",
     "output_type": "stream",
     "text": [
      "     cliente  valor_total\n",
      "0        148       211.55\n",
      "1        526       208.58\n",
      "2        178       194.61\n",
      "3        137       191.62\n",
      "4        144       189.60\n",
      "..       ...          ...\n",
      "594      110        49.88\n",
      "595      320        47.85\n",
      "596      248        37.87\n",
      "597      281        32.90\n",
      "598      318        27.93\n",
      "\n",
      "[599 rows x 2 columns]\n"
     ]
    }
   ],
   "source": [
    "sql = \"\"\"\n",
    "    SELECT cliente_id cliente, SUM(cantidad) valor_total \n",
    "    FROM pagos\n",
    "    GROUP BY cliente_id\n",
    "    ORDER BY valor_total DESC;\n",
    "\"\"\"\n",
    "\n",
    "pg_df = pd.read_sql(sql, pg_conexion)\n",
    "print(pg_df)"
   ]
  },
  {
   "cell_type": "markdown",
   "id": "2eb2e5c2",
   "metadata": {},
   "source": [
    "A continuación, la conexión a SQL Server."
   ]
  },
  {
   "cell_type": "code",
   "execution_count": 17,
   "id": "7d41c2df",
   "metadata": {},
   "outputs": [],
   "source": [
    "import pyodbc as po\n",
    "\n",
    "sql_credenciales = (\n",
    "    'DRIVER={ODBC Driver 17 for SQL Server};'\n",
    "    'SERVER=OMARJCM\\SQLSERVER20219;'\n",
    "    'DATABASE=NORTHWND;'\n",
    "    'UID=sa;'\n",
    "    'PWD=inexcelsisdeo;'\n",
    ")\n",
    "\n",
    "sql_conexion = po.connect( sql_credenciales )\n",
    "sql_cursor = sql_conexion.cursor()"
   ]
  },
  {
   "cell_type": "code",
   "execution_count": 22,
   "id": "79a967ed",
   "metadata": {},
   "outputs": [
    {
     "name": "stdout",
     "output_type": "stream",
     "text": [
      "   cliente  valor_total\n",
      "0    QUICK    110277.31\n",
      "1    ERNSH    104874.98\n",
      "2    SAVEA    104361.95\n",
      "3    RATTC     51097.80\n",
      "4    HUNGO     49979.91\n",
      "..     ...          ...\n",
      "84   GALED       836.70\n",
      "85   NORTS       649.00\n",
      "86   LAUGB       522.50\n",
      "87   LAZYK       357.00\n",
      "88   CENTC       100.80\n",
      "\n",
      "[89 rows x 2 columns]\n"
     ]
    }
   ],
   "source": [
    "sql = \"\"\"\n",
    "    SELECT ord.CustomerID cliente, ROUND( SUM( od.Quantity * (od.UnitPrice * (1 - od.Discount)) ), 2) valor_total\n",
    "    FROM Orders ord INNER JOIN [Order Details] od ON (ord.OrderID = od.OrderID)\n",
    "    GROUP BY ord.CustomerID\n",
    "    ORDER BY valor_total DESC\n",
    "\"\"\"\n",
    "\n",
    "sql_df = pd.read_sql(sql, sql_conexion)\n",
    "print(sql_df)"
   ]
  },
  {
   "cell_type": "code",
   "execution_count": 24,
   "id": "47d7bbbf",
   "metadata": {},
   "outputs": [
    {
     "name": "stdout",
     "output_type": "stream",
     "text": [
      "   cliente  valor_total\n",
      "0      148       211.55\n",
      "1      526       208.58\n",
      "2      178       194.61\n",
      "3      137       191.62\n",
      "4      144       189.60\n",
      "..     ...          ...\n",
      "84   GALED       836.70\n",
      "85   NORTS       649.00\n",
      "86   LAUGB       522.50\n",
      "87   LAZYK       357.00\n",
      "88   CENTC       100.80\n",
      "\n",
      "[688 rows x 2 columns]\n"
     ]
    }
   ],
   "source": [
    "transacciones = pd.concat([pg_df, sql_df])\n",
    "print(transacciones)"
   ]
  },
  {
   "cell_type": "code",
   "execution_count": 25,
   "id": "c23ff449",
   "metadata": {},
   "outputs": [
    {
     "name": "stdout",
     "output_type": "stream",
     "text": [
      "<class 'pandas.core.frame.DataFrame'>\n",
      "Int64Index: 688 entries, 0 to 88\n",
      "Data columns (total 2 columns):\n",
      " #   Column       Non-Null Count  Dtype  \n",
      "---  ------       --------------  -----  \n",
      " 0   cliente      688 non-null    object \n",
      " 1   valor_total  688 non-null    float64\n",
      "dtypes: float64(1), object(1)\n",
      "memory usage: 16.1+ KB\n"
     ]
    }
   ],
   "source": [
    "transacciones.info()"
   ]
  },
  {
   "cell_type": "code",
   "execution_count": 17,
   "id": "9e60c120",
   "metadata": {},
   "outputs": [],
   "source": [
    "pg_cursor.close()\n",
    "pg_conexion.close()"
   ]
  },
  {
   "cell_type": "markdown",
   "id": "dea2e554",
   "metadata": {},
   "source": [
    "## Conexión a SQL Server"
   ]
  },
  {
   "cell_type": "code",
   "execution_count": 12,
   "id": "7698e725",
   "metadata": {},
   "outputs": [
    {
     "name": "stdout",
     "output_type": "stream",
     "text": [
      "Requirement already satisfied: pyodbc in c:\\users\\core i5 11va\\anaconda3\\lib\\site-packages (4.0.0-unsupported)\n"
     ]
    }
   ],
   "source": [
    "!pip install pyodbc"
   ]
  },
  {
   "cell_type": "code",
   "execution_count": 13,
   "id": "239f07d7",
   "metadata": {},
   "outputs": [],
   "source": []
  },
  {
   "cell_type": "code",
   "execution_count": 20,
   "id": "88c93dc9",
   "metadata": {},
   "outputs": [],
   "source": []
  },
  {
   "cell_type": "code",
   "execution_count": 21,
   "id": "136511b7",
   "metadata": {},
   "outputs": [
    {
     "name": "stdout",
     "output_type": "stream",
     "text": [
      "('ALFKI', 'Alfreds Futterkiste', 'Maria Anders', 'Sales Representative', 'Obere Str. 57', 'Berlin', None, '12209', 'Germany', '030-0074321', '030-0076545')\n",
      "('ANATR', 'Ana Trujillo Emparedados y helados', 'Ana Trujillo', 'Owner', 'Avda. de la Constitución 2222', 'México D.F.', None, '05021', 'Mexico', '(5) 555-4729', '(5) 555-3745')\n",
      "('ANTON', 'Antonio Moreno Taquería', 'Antonio Moreno', 'Owner', 'Mataderos  2312', 'México D.F.', None, '05023', 'Mexico', '(5) 555-3932', None)\n",
      "('AROUT', 'Around the Horn', 'Thomas Hardy', 'Sales Representative', '120 Hanover Sq.', 'London', None, 'WA1 1DP', 'UK', '(171) 555-7788', '(171) 555-6750')\n",
      "('BERGS', 'Berglunds snabbköp', 'Christina Berglund', 'Order Administrator', 'Berguvsvägen  8', 'Luleå', None, 'S-958 22', 'Sweden', '0921-12 34 65', '0921-12 34 67')\n",
      "('BLAUS', 'Blauer See Delikatessen', 'Hanna Moos', 'Sales Representative', 'Forsterstr. 57', 'Mannheim', None, '68306', 'Germany', '0621-08460', '0621-08924')\n",
      "('BLONP', 'Blondesddsl père et fils', 'Frédérique Citeaux', 'Marketing Manager', '24, place Kléber', 'Strasbourg', None, '67000', 'France', '88.60.15.31', '88.60.15.32')\n",
      "('BOLID', 'Bólido Comidas preparadas', 'Martín Sommer', 'Owner', 'C/ Araquil, 67', 'Madrid', None, '28023', 'Spain', '(91) 555 22 82', '(91) 555 91 99')\n",
      "('BONAP', \"Bon app'\", 'Laurence Lebihan', 'Owner', '12, rue des Bouchers', 'Marseille', None, '13008', 'France', '91.24.45.40', '91.24.45.41')\n",
      "('BOTTM', 'Bottom-Dollar Markets', 'Elizabeth Lincoln', 'Accounting Manager', '23 Tsawassen Blvd.', 'Tsawassen', 'BC', 'T2F 8M4', 'Canada', '(604) 555-4729', '(604) 555-3745')\n",
      "('BSBEV', \"B's Beverages\", 'Victoria Ashworth', 'Sales Representative', 'Fauntleroy Circus', 'London', None, 'EC2 5NT', 'UK', '(171) 555-1212', None)\n",
      "('CACTU', 'Cactus Comidas para llevar', 'Patricio Simpson', 'Sales Agent', 'Cerrito 333', 'Buenos Aires', None, '1010', 'Argentina', '(1) 135-5555', '(1) 135-4892')\n",
      "('CENTC', 'Centro comercial Moctezuma', 'Francisco Chang', 'Marketing Manager', 'Sierras de Granada 9993', 'México D.F.', None, '05022', 'Mexico', '(5) 555-3392', '(5) 555-7293')\n",
      "('CHOPS', 'Chop-suey Chinese', 'Yang Wang', 'Owner', 'Hauptstr. 29', 'Bern', None, '3012', 'Switzerland', '0452-076545', None)\n",
      "('COMMI', 'Comércio Mineiro', 'Pedro Afonso', 'Sales Associate', 'Av. dos Lusíadas, 23', 'Sao Paulo', 'SP', '05432-043', 'Brazil', '(11) 555-7647', None)\n",
      "('CONSH', 'Consolidated Holdings', 'Elizabeth Brown', 'Sales Representative', 'Berkeley Gardens 12  Brewery', 'London', None, 'WX1 6LT', 'UK', '(171) 555-2282', '(171) 555-9199')\n",
      "('DRACD', 'Drachenblut Delikatessen', 'Sven Ottlieb', 'Order Administrator', 'Walserweg 21', 'Aachen', None, '52066', 'Germany', '0241-039123', '0241-059428')\n",
      "('DUMON', 'Du monde entier', 'Janine Labrune', 'Owner', '67, rue des Cinquante Otages', 'Nantes', None, '44000', 'France', '40.67.88.88', '40.67.89.89')\n",
      "('EASTC', 'Eastern Connection', 'Ann Devon', 'Sales Agent', '35 King George', 'London', None, 'WX3 6FW', 'UK', '(171) 555-0297', '(171) 555-3373')\n",
      "('ERNSH', 'Ernst Handel', 'Roland Mendel', 'Sales Manager', 'Kirchgasse 6', 'Graz', None, '8010', 'Austria', '7675-3425', '7675-3426')\n",
      "('FAMIA', 'Familia Arquibaldo', 'Aria Cruz', 'Marketing Assistant', 'Rua Orós, 92', 'Sao Paulo', 'SP', '05442-030', 'Brazil', '(11) 555-9857', None)\n",
      "('FISSA', 'FISSA Fabrica Inter. Salchichas S.A.', 'Diego Roel', 'Accounting Manager', 'C/ Moralzarzal, 86', 'Madrid', None, '28034', 'Spain', '(91) 555 94 44', '(91) 555 55 93')\n",
      "('FOLIG', 'Folies gourmandes', 'Martine Rancé', 'Assistant Sales Agent', '184, chaussée de Tournai', 'Lille', None, '59000', 'France', '20.16.10.16', '20.16.10.17')\n",
      "('FOLKO', 'Folk och fä HB', 'Maria Larsson', 'Owner', 'Åkergatan 24', 'Bräcke', None, 'S-844 67', 'Sweden', '0695-34 67 21', None)\n",
      "('FRANK', 'Frankenversand', 'Peter Franken', 'Marketing Manager', 'Berliner Platz 43', 'München', None, '80805', 'Germany', '089-0877310', '089-0877451')\n",
      "('FRANR', 'France restauration', 'Carine Schmitt', 'Marketing Manager', '54, rue Royale', 'Nantes', None, '44000', 'France', '40.32.21.21', '40.32.21.20')\n",
      "('FRANS', 'Franchi S.p.A.', 'Paolo Accorti', 'Sales Representative', 'Via Monte Bianco 34', 'Torino', None, '10100', 'Italy', '011-4988260', '011-4988261')\n",
      "('FURIB', 'Furia Bacalhau e Frutos do Mar', 'Lino Rodriguez', 'Sales Manager', 'Jardim das rosas n. 32', 'Lisboa', None, '1675', 'Portugal', '(1) 354-2534', '(1) 354-2535')\n",
      "('GALED', 'Galería del gastrónomo', 'Eduardo Saavedra', 'Marketing Manager', 'Rambla de Cataluña, 23', 'Barcelona', None, '08022', 'Spain', '(93) 203 4560', '(93) 203 4561')\n",
      "('GODOS', 'Godos Cocina Típica', 'José Pedro Freyre', 'Sales Manager', 'C/ Romero, 33', 'Sevilla', None, '41101', 'Spain', '(95) 555 82 82', None)\n",
      "('GOURL', 'Gourmet Lanchonetes', 'André Fonseca', 'Sales Associate', 'Av. Brasil, 442', 'Campinas', 'SP', '04876-786', 'Brazil', '(11) 555-9482', None)\n",
      "('GREAL', 'Great Lakes Food Market', 'Howard Snyder', 'Marketing Manager', '2732 Baker Blvd.', 'Eugene', 'OR', '97403', 'USA', '(503) 555-7555', None)\n",
      "('GROSR', 'GROSELLA-Restaurante', 'Manuel Pereira', 'Owner', '5ª Ave. Los Palos Grandes', 'Caracas', 'DF', '1081', 'Venezuela', '(2) 283-2951', '(2) 283-3397')\n",
      "('HANAR', 'Hanari Carnes', 'Mario Pontes', 'Accounting Manager', 'Rua do Paço, 67', 'Rio de Janeiro', 'RJ', '05454-876', 'Brazil', '(21) 555-0091', '(21) 555-8765')\n",
      "('HILAA', 'HILARION-Abastos', 'Carlos Hernández', 'Sales Representative', 'Carrera 22 con Ave. Carlos Soublette #8-35', 'San Cristóbal', 'Táchira', '5022', 'Venezuela', '(5) 555-1340', '(5) 555-1948')\n",
      "('HUNGC', 'Hungry Coyote Import Store', 'Yoshi Latimer', 'Sales Representative', 'City Center Plaza 516 Main St.', 'Elgin', 'OR', '97827', 'USA', '(503) 555-6874', '(503) 555-2376')\n",
      "('HUNGO', 'Hungry Owl All-Night Grocers', 'Patricia McKenna', 'Sales Associate', '8 Johnstown Road', 'Cork', 'Co. Cork', None, 'Ireland', '2967 542', '2967 3333')\n",
      "('ISLAT', 'Island Trading', 'Helen Bennett', 'Marketing Manager', 'Garden House Crowther Way', 'Cowes', 'Isle of Wight', 'PO31 7PJ', 'UK', '(198) 555-8888', None)\n",
      "('KOENE', 'Königlich Essen', 'Philip Cramer', 'Sales Associate', 'Maubelstr. 90', 'Brandenburg', None, '14776', 'Germany', '0555-09876', None)\n",
      "('LACOR', \"La corne d'abondance\", 'Daniel Tonini', 'Sales Representative', \"67, avenue de l'Europe\", 'Versailles', None, '78000', 'France', '30.59.84.10', '30.59.85.11')\n",
      "('LAMAI', \"La maison d'Asie\", 'Annette Roulet', 'Sales Manager', '1 rue Alsace-Lorraine', 'Toulouse', None, '31000', 'France', '61.77.61.10', '61.77.61.11')\n",
      "('LAUGB', 'Laughing Bacchus Wine Cellars', 'Yoshi Tannamuri', 'Marketing Assistant', '1900 Oak St.', 'Vancouver', 'BC', 'V3F 2K1', 'Canada', '(604) 555-3392', '(604) 555-7293')\n",
      "('LAZYK', 'Lazy K Kountry Store', 'John Steel', 'Marketing Manager', '12 Orchestra Terrace', 'Walla Walla', 'WA', '99362', 'USA', '(509) 555-7969', '(509) 555-6221')\n",
      "('LEHMS', 'Lehmanns Marktstand', 'Renate Messner', 'Sales Representative', 'Magazinweg 7', 'Frankfurt a.M.', None, '60528', 'Germany', '069-0245984', '069-0245874')\n",
      "('LETSS', \"Let's Stop N Shop\", 'Jaime Yorres', 'Owner', '87 Polk St. Suite 5', 'San Francisco', 'CA', '94117', 'USA', '(415) 555-5938', None)\n",
      "('LILAS', 'LILA-Supermercado', 'Carlos González', 'Accounting Manager', 'Carrera 52 con Ave. Bolívar #65-98 Llano Largo', 'Barquisimeto', 'Lara', '3508', 'Venezuela', '(9) 331-6954', '(9) 331-7256')\n",
      "('LINOD', 'LINO-Delicateses', 'Felipe Izquierdo', 'Owner', 'Ave. 5 de Mayo Porlamar', 'I. de Margarita', 'Nueva Esparta', '4980', 'Venezuela', '(8) 34-56-12', '(8) 34-93-93')\n",
      "('LONEP', 'Lonesome Pine Restaurant', 'Fran Wilson', 'Sales Manager', '89 Chiaroscuro Rd.', 'Portland', 'OR', '97219', 'USA', '(503) 555-9573', '(503) 555-9646')\n",
      "('MAGAA', 'Magazzini Alimentari Riuniti', 'Giovanni Rovelli', 'Marketing Manager', 'Via Ludovico il Moro 22', 'Bergamo', None, '24100', 'Italy', '035-640230', '035-640231')\n",
      "('MAISD', 'Maison Dewey', 'Catherine Dewey', 'Sales Agent', 'Rue Joseph-Bens 532', 'Bruxelles', None, 'B-1180', 'Belgium', '(02) 201 24 67', '(02) 201 24 68')\n",
      "('MEREP', 'Mère Paillarde', 'Jean Fresnière', 'Marketing Assistant', '43 rue St. Laurent', 'Montréal', 'Québec', 'H1J 1C3', 'Canada', '(514) 555-8054', '(514) 555-8055')\n",
      "('MORGK', 'Morgenstern Gesundkost', 'Alexander Feuer', 'Marketing Assistant', 'Heerstr. 22', 'Leipzig', None, '04179', 'Germany', '0342-023176', None)\n",
      "('NORTS', 'North/South', 'Simon Crowther', 'Sales Associate', 'South House 300 Queensbridge', 'London', None, 'SW7 1RZ', 'UK', '(171) 555-7733', '(171) 555-2530')\n",
      "('OCEAN', 'Océano Atlántico Ltda.', 'Yvonne Moncada', 'Sales Agent', 'Ing. Gustavo Moncada 8585 Piso 20-A', 'Buenos Aires', None, '1010', 'Argentina', '(1) 135-5333', '(1) 135-5535')\n",
      "('OLDWO', 'Old World Delicatessen', 'Rene Phillips', 'Sales Representative', '2743 Bering St.', 'Anchorage', 'AK', '99508', 'USA', '(907) 555-7584', '(907) 555-2880')\n",
      "('OTTIK', 'Ottilies Käseladen', 'Henriette Pfalzheim', 'Owner', 'Mehrheimerstr. 369', 'Köln', None, '50739', 'Germany', '0221-0644327', '0221-0765721')\n",
      "('PARIS', 'Paris spécialités', 'Marie Bertrand', 'Owner', '265, boulevard Charonne', 'Paris', None, '75012', 'France', '(1) 42.34.22.66', '(1) 42.34.22.77')\n",
      "('PERIC', 'Pericles Comidas clásicas', 'Guillermo Fernández', 'Sales Representative', 'Calle Dr. Jorge Cash 321', 'México D.F.', None, '05033', 'Mexico', '(5) 552-3745', '(5) 545-3745')\n",
      "('PICCO', 'Piccolo und mehr', 'Georg Pipps', 'Sales Manager', 'Geislweg 14', 'Salzburg', None, '5020', 'Austria', '6562-9722', '6562-9723')\n",
      "('PRINI', 'Princesa Isabel Vinhos', 'Isabel de Castro', 'Sales Representative', 'Estrada da saúde n. 58', 'Lisboa', None, '1756', 'Portugal', '(1) 356-5634', None)\n",
      "('QUEDE', 'Que Delícia', 'Bernardo Batista', 'Accounting Manager', 'Rua da Panificadora, 12', 'Rio de Janeiro', 'RJ', '02389-673', 'Brazil', '(21) 555-4252', '(21) 555-4545')\n",
      "('QUEEN', 'Queen Cozinha', 'Lúcia Carvalho', 'Marketing Assistant', 'Alameda dos Canàrios, 891', 'Sao Paulo', 'SP', '05487-020', 'Brazil', '(11) 555-1189', None)\n",
      "('QUICK', 'QUICK-Stop', 'Horst Kloss', 'Accounting Manager', 'Taucherstraße 10', 'Cunewalde', None, '01307', 'Germany', '0372-035188', None)\n",
      "('RANCH', 'Rancho grande', 'Sergio Gutiérrez', 'Sales Representative', 'Av. del Libertador 900', 'Buenos Aires', None, '1010', 'Argentina', '(1) 123-5555', '(1) 123-5556')\n",
      "('RATTC', 'Rattlesnake Canyon Grocery', 'Paula Wilson', 'Assistant Sales Representative', '2817 Milton Dr.', 'Albuquerque', 'NM', '87110', 'USA', '(505) 555-5939', '(505) 555-3620')\n",
      "('REGGC', 'Reggiani Caseifici', 'Maurizio Moroni', 'Sales Associate', 'Strada Provinciale 124', 'Reggio Emilia', None, '42100', 'Italy', '0522-556721', '0522-556722')\n",
      "('RICAR', 'Ricardo Adocicados', 'Janete Limeira', 'Assistant Sales Agent', 'Av. Copacabana, 267', 'Rio de Janeiro', 'RJ', '02389-890', 'Brazil', '(21) 555-3412', None)\n",
      "('RICSU', 'Richter Supermarkt', 'Michael Holz', 'Sales Manager', 'Grenzacherweg 237', 'Genève', None, '1203', 'Switzerland', '0897-034214', None)\n",
      "('ROMEY', 'Romero y tomillo', 'Alejandra Camino', 'Accounting Manager', 'Gran Vía, 1', 'Madrid', None, '28001', 'Spain', '(91) 745 6200', '(91) 745 6210')\n",
      "('SANTG', 'Santé Gourmet', 'Jonas Bergulfsen', 'Owner', 'Erling Skakkes gate 78', 'Stavern', None, '4110', 'Norway', '07-98 92 35', '07-98 92 47')\n",
      "('SAVEA', 'Save-a-lot Markets', 'Jose Pavarotti', 'Sales Representative', '187 Suffolk Ln.', 'Boise', 'ID', '83720', 'USA', '(208) 555-8097', None)\n",
      "('SEVES', 'Seven Seas Imports', 'Hari Kumar', 'Sales Manager', '90 Wadhurst Rd.', 'London', None, 'OX15 4NB', 'UK', '(171) 555-1717', '(171) 555-5646')\n",
      "('SIMOB', 'Simons bistro', 'Jytte Petersen', 'Owner', 'Vinbæltet 34', 'Kobenhavn', None, '1734', 'Denmark', '31 12 34 56', '31 13 35 57')\n",
      "('SPECD', 'Spécialités du monde', 'Dominique Perrier', 'Marketing Manager', '25, rue Lauriston', 'Paris', None, '75016', 'France', '(1) 47.55.60.10', '(1) 47.55.60.20')\n",
      "('SPLIR', 'Split Rail Beer & Ale', 'Art Braunschweiger', 'Sales Manager', 'P.O. Box 555', 'Lander', 'WY', '82520', 'USA', '(307) 555-4680', '(307) 555-6525')\n",
      "('SUPRD', 'Suprêmes délices', 'Pascale Cartrain', 'Accounting Manager', 'Boulevard Tirou, 255', 'Charleroi', None, 'B-6000', 'Belgium', '(071) 23 67 22 20', '(071) 23 67 22 21')\n",
      "('THEBI', 'The Big Cheese', 'Liz Nixon', 'Marketing Manager', '89 Jefferson Way Suite 2', 'Portland', 'OR', '97201', 'USA', '(503) 555-3612', None)\n",
      "('THECR', 'The Cracker Box', 'Liu Wong', 'Marketing Assistant', '55 Grizzly Peak Rd.', 'Butte', 'MT', '59801', 'USA', '(406) 555-5834', '(406) 555-8083')\n",
      "('TOMSP', 'Toms Spezialitäten', 'Karin Josephs', 'Marketing Manager', 'Luisenstr. 48', 'Münster', None, '44087', 'Germany', '0251-031259', '0251-035695')\n",
      "('TORTU', 'Tortuga Restaurante', 'Miguel Angel Paolino', 'Owner', 'Avda. Azteca 123', 'México D.F.', None, '05033', 'Mexico', '(5) 555-2933', None)\n",
      "('TRADH', 'Tradição Hipermercados', 'Anabela Domingues', 'Sales Representative', 'Av. Inês de Castro, 414', 'Sao Paulo', 'SP', '05634-030', 'Brazil', '(11) 555-2167', '(11) 555-2168')\n",
      "('TRAIH', \"Trail's Head Gourmet Provisioners\", 'Helvetius Nagy', 'Sales Associate', '722 DaVinci Blvd.', 'Kirkland', 'WA', '98034', 'USA', '(206) 555-8257', '(206) 555-2174')\n",
      "('VAFFE', 'Vaffeljernet', 'Palle Ibsen', 'Sales Manager', 'Smagsloget 45', 'Århus', None, '8200', 'Denmark', '86 21 32 43', '86 22 33 44')\n",
      "('VICTE', 'Victuailles en stock', 'Mary Saveley', 'Sales Agent', '2, rue du Commerce', 'Lyon', None, '69004', 'France', '78.32.54.86', '78.32.54.87')\n",
      "('VINET', 'Vins et alcools Chevalier', 'Paul Henriot', 'Accounting Manager', \"59 rue de l'Abbaye\", 'Reims', None, '51100', 'France', '26.47.15.10', '26.47.15.11')\n",
      "('WANDK', 'Die Wandernde Kuh', 'Rita Müller', 'Sales Representative', 'Adenauerallee 900', 'Stuttgart', None, '70563', 'Germany', '0711-020361', '0711-035428')\n",
      "('WARTH', 'Wartian Herkku', 'Pirkko Koskitalo', 'Accounting Manager', 'Torikatu 38', 'Oulu', None, '90110', 'Finland', '981-443655', '981-443655')\n",
      "('WELLI', 'Wellington Importadora', 'Paula Parente', 'Sales Manager', 'Rua do Mercado, 12', 'Resende', 'SP', '08737-363', 'Brazil', '(14) 555-8122', None)\n",
      "('WHITC', 'White Clover Markets', 'Karl Jablonski', 'Owner', '305 - 14th Ave. S. Suite 3B', 'Seattle', 'WA', '98128', 'USA', '(206) 555-4112', '(206) 555-4115')\n",
      "('WILMK', 'Wilman Kala', 'Matti Karttunen', 'Owner/Marketing Assistant', 'Keskuskatu 45', 'Helsinki', None, '21240', 'Finland', '90-224 8858', '90-224 8858')\n",
      "('WOLZA', 'Wolski  Zajazd', 'Zbyszek Piestrzeniewicz', 'Owner', 'ul. Filtrowa 68', 'Warszawa', None, '01-012', 'Poland', '(26) 642-7012', '(26) 642-7012')\n"
     ]
    }
   ],
   "source": []
  },
  {
   "cell_type": "code",
   "execution_count": 22,
   "id": "782e571c",
   "metadata": {},
   "outputs": [],
   "source": [
    "sql_cursor.close()\n",
    "sql_conexion.close()"
   ]
  }
 ],
 "metadata": {
  "kernelspec": {
   "display_name": "Python 3",
   "language": "python",
   "name": "python3"
  },
  "language_info": {
   "codemirror_mode": {
    "name": "ipython",
    "version": 3
   },
   "file_extension": ".py",
   "mimetype": "text/x-python",
   "name": "python",
   "nbconvert_exporter": "python",
   "pygments_lexer": "ipython3",
   "version": "3.8.8"
  }
 },
 "nbformat": 4,
 "nbformat_minor": 5
}
