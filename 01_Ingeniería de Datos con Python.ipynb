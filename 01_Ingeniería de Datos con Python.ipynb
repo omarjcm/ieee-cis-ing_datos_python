{
 "cells": [
  {
   "cell_type": "markdown",
   "id": "700e43f0",
   "metadata": {},
   "source": [
    "# Ingeniería de Datos en Python"
   ]
  },
  {
   "cell_type": "markdown",
   "id": "d74c57fd",
   "metadata": {},
   "source": [
    "## Laboratorio 1"
   ]
  },
  {
   "cell_type": "markdown",
   "id": "1ce1421e",
   "metadata": {},
   "source": [
    "Objetivos Especificos: \n",
    "- Conectarse a las diversas Bases de Datos (BD).\n",
    "- Extraer informacion de cada BD.\n",
    "- Unir los datos en una sola BD."
   ]
  },
  {
   "cell_type": "markdown",
   "id": "d6f3a036",
   "metadata": {},
   "source": [
    "A continuación, se presenta la conexión a PostgreSQL."
   ]
  },
  {
   "cell_type": "code",
   "execution_count": 27,
   "id": "4036df34",
   "metadata": {},
   "outputs": [],
   "source": [
    "import psycopg2 as ps\n",
    "import pandas as pd\n",
    "\n",
    "pg_credenciales = {\n",
    "    'dbname':'peliculas',\n",
    "    'user':'postgres',\n",
    "    'password':'inexcelsisdeo',\n",
    "    'host':'localhost',\n",
    "    'port':5432\n",
    "}\n",
    "\n",
    "pg_conexion = ps.connect( **pg_credenciales )\n",
    "pg_cursor = pg_conexion.cursor()"
   ]
  },
  {
   "cell_type": "code",
   "execution_count": 28,
   "id": "c5e071e3",
   "metadata": {},
   "outputs": [
    {
     "name": "stdout",
     "output_type": "stream",
     "text": [
      "     cliente  valor_total\n",
      "0        148       211.55\n",
      "1        526       208.58\n",
      "2        178       194.61\n",
      "3        137       191.62\n",
      "4        144       189.60\n",
      "..       ...          ...\n",
      "594      110        49.88\n",
      "595      320        47.85\n",
      "596      248        37.87\n",
      "597      281        32.90\n",
      "598      318        27.93\n",
      "\n",
      "[599 rows x 2 columns]\n"
     ]
    }
   ],
   "source": [
    "sql = \"\"\"\n",
    "    SELECT cliente_id cliente, SUM(cantidad) valor_total \n",
    "    FROM pagos\n",
    "    GROUP BY cliente_id\n",
    "    ORDER BY valor_total DESC;\n",
    "\"\"\"\n",
    "\n",
    "pg_df = pd.read_sql(sql, pg_conexion)\n",
    "print(pg_df)"
   ]
  },
  {
   "cell_type": "markdown",
   "id": "e6791c35",
   "metadata": {},
   "source": [
    "A continuación, la conexión a SQL Server."
   ]
  },
  {
   "cell_type": "code",
   "execution_count": 29,
   "id": "8923f79f",
   "metadata": {},
   "outputs": [],
   "source": [
    "import pyodbc as po\n",
    "\n",
    "sql_credenciales = (\n",
    "    'DRIVER={ODBC Driver 17 for SQL Server};'\n",
    "    'SERVER=OMARJCM\\SQLSERVER20219;'\n",
    "    'DATABASE=NORTHWND;'\n",
    "    'UID=sa;'\n",
    "    'PWD=inexcelsisdeo;'\n",
    ")\n",
    "\n",
    "sql_conexion = po.connect( sql_credenciales )\n",
    "sql_cursor = sql_conexion.cursor()"
   ]
  },
  {
   "cell_type": "code",
   "execution_count": 30,
   "id": "6c93ad84",
   "metadata": {},
   "outputs": [
    {
     "name": "stdout",
     "output_type": "stream",
     "text": [
      "   cliente  valor_total\n",
      "0    QUICK    110277.31\n",
      "1    ERNSH    104874.98\n",
      "2    SAVEA    104361.95\n",
      "3    RATTC     51097.80\n",
      "4    HUNGO     49979.91\n",
      "..     ...          ...\n",
      "84   GALED       836.70\n",
      "85   NORTS       649.00\n",
      "86   LAUGB       522.50\n",
      "87   LAZYK       357.00\n",
      "88   CENTC       100.80\n",
      "\n",
      "[89 rows x 2 columns]\n"
     ]
    }
   ],
   "source": [
    "sql = \"\"\"\n",
    "    SELECT ord.CustomerID cliente, ROUND( SUM( od.Quantity * (od.UnitPrice * (1 - od.Discount)) ), 2) valor_total\n",
    "    FROM Orders ord INNER JOIN [Order Details] od ON (ord.OrderID = od.OrderID)\n",
    "    GROUP BY ord.CustomerID\n",
    "    ORDER BY valor_total DESC\n",
    "\"\"\"\n",
    "\n",
    "sql_df = pd.read_sql(sql, sql_conexion)\n",
    "print(sql_df)"
   ]
  },
  {
   "cell_type": "code",
   "execution_count": 32,
   "id": "0d7d08e5",
   "metadata": {},
   "outputs": [
    {
     "name": "stdout",
     "output_type": "stream",
     "text": [
      "<class 'pandas.core.frame.DataFrame'>\n",
      "RangeIndex: 89 entries, 0 to 88\n",
      "Data columns (total 2 columns):\n",
      " #   Column       Non-Null Count  Dtype  \n",
      "---  ------       --------------  -----  \n",
      " 0   cliente      89 non-null     object \n",
      " 1   valor_total  89 non-null     float64\n",
      "dtypes: float64(1), object(1)\n",
      "memory usage: 1.5+ KB\n"
     ]
    }
   ],
   "source": [
    "sql_df.info()"
   ]
  },
  {
   "cell_type": "code",
   "execution_count": 33,
   "id": "a838ae14",
   "metadata": {},
   "outputs": [
    {
     "name": "stdout",
     "output_type": "stream",
     "text": [
      "<class 'pandas.core.frame.DataFrame'>\n",
      "RangeIndex: 599 entries, 0 to 598\n",
      "Data columns (total 2 columns):\n",
      " #   Column       Non-Null Count  Dtype  \n",
      "---  ------       --------------  -----  \n",
      " 0   cliente      599 non-null    int64  \n",
      " 1   valor_total  599 non-null    float64\n",
      "dtypes: float64(1), int64(1)\n",
      "memory usage: 9.5 KB\n"
     ]
    }
   ],
   "source": [
    "pg_df.info()"
   ]
  },
  {
   "cell_type": "code",
   "execution_count": 24,
   "id": "86edf177",
   "metadata": {},
   "outputs": [
    {
     "name": "stdout",
     "output_type": "stream",
     "text": [
      "   cliente  valor_total\n",
      "0      148       211.55\n",
      "1      526       208.58\n",
      "2      178       194.61\n",
      "3      137       191.62\n",
      "4      144       189.60\n",
      "..     ...          ...\n",
      "84   GALED       836.70\n",
      "85   NORTS       649.00\n",
      "86   LAUGB       522.50\n",
      "87   LAZYK       357.00\n",
      "88   CENTC       100.80\n",
      "\n",
      "[688 rows x 2 columns]\n"
     ]
    }
   ],
   "source": [
    "transacciones = pd.concat([pg_df, sql_df])\n",
    "print(transacciones)"
   ]
  },
  {
   "cell_type": "code",
   "execution_count": 25,
   "id": "96d979f8",
   "metadata": {},
   "outputs": [
    {
     "name": "stdout",
     "output_type": "stream",
     "text": [
      "<class 'pandas.core.frame.DataFrame'>\n",
      "Int64Index: 688 entries, 0 to 88\n",
      "Data columns (total 2 columns):\n",
      " #   Column       Non-Null Count  Dtype  \n",
      "---  ------       --------------  -----  \n",
      " 0   cliente      688 non-null    object \n",
      " 1   valor_total  688 non-null    float64\n",
      "dtypes: float64(1), object(1)\n",
      "memory usage: 16.1+ KB\n"
     ]
    }
   ],
   "source": [
    "transacciones.info()"
   ]
  },
  {
   "cell_type": "code",
   "execution_count": 34,
   "id": "9e60c120",
   "metadata": {},
   "outputs": [],
   "source": [
    "pg_cursor.close()\n",
    "pg_conexion.close()\n",
    "\n",
    "sql_cursor.close()\n",
    "sql_conexion.close()"
   ]
  }
 ],
 "metadata": {
  "kernelspec": {
   "display_name": "Python 3",
   "language": "python",
   "name": "python3"
  },
  "language_info": {
   "codemirror_mode": {
    "name": "ipython",
    "version": 3
   },
   "file_extension": ".py",
   "mimetype": "text/x-python",
   "name": "python",
   "nbconvert_exporter": "python",
   "pygments_lexer": "ipython3",
   "version": "3.8.8"
  }
 },
 "nbformat": 4,
 "nbformat_minor": 5
}
